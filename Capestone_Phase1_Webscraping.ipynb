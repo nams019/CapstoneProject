{
 "cells": [
  {
   "cell_type": "code",
   "execution_count": 2,
   "id": "ecc83ea4",
   "metadata": {},
   "outputs": [
    {
     "name": "stdout",
     "output_type": "stream",
     "text": [
      "Requirement already satisfied: requests in c:\\users\\nmrts\\anaconda3\\lib\\site-packages (2.27.1)\n",
      "Requirement already satisfied: beautifulsoup4 in c:\\users\\nmrts\\anaconda3\\lib\\site-packages (4.11.1)\n",
      "Requirement already satisfied: certifi>=2017.4.17 in c:\\users\\nmrts\\anaconda3\\lib\\site-packages (from requests) (2021.10.8)\n",
      "Requirement already satisfied: urllib3<1.27,>=1.21.1 in c:\\users\\nmrts\\anaconda3\\lib\\site-packages (from requests) (1.26.9)\n",
      "Requirement already satisfied: charset-normalizer~=2.0.0 in c:\\users\\nmrts\\anaconda3\\lib\\site-packages (from requests) (2.0.4)\n",
      "Requirement already satisfied: idna<4,>=2.5 in c:\\users\\nmrts\\anaconda3\\lib\\site-packages (from requests) (3.3)\n",
      "Requirement already satisfied: soupsieve>1.2 in c:\\users\\nmrts\\anaconda3\\lib\\site-packages (from beautifulsoup4) (2.3.1)\n",
      "Note: you may need to restart the kernel to use updated packages.\n"
     ]
    }
   ],
   "source": [
    "pip install requests beautifulsoup4\n"
   ]
  },
  {
   "cell_type": "code",
   "execution_count": null,
   "id": "d0127c77",
   "metadata": {},
   "outputs": [],
   "source": [
    "import requests\n",
    "from bs4 import BeautifulSoup\n",
    "\n",
    "urls = [\n",
    "    \"https://oldnavy.gap.com/\",\n",
    "    \"https://www2.hm.com/en_in/index.html\",\n",
    "    \"https://allensolly.abfrl.in/\",\n",
    "    \"https://www.biba.in/\",\n",
    "    \"https://www.fabindia.com/\",\n",
    "    \"https://www2.hm.com/en_in/index.html\",\n",
    "    \"https://www.levi.in/\",\n",
    "    \"https://www.montecarlo.in/\",\n",
    "    \"https://www.muftijeans.in/\",\n",
    "    \"https://www.peterengland.com/\",\n",
    "    \"https://uspoloassn.in/\",\n",
    "    \"https://in.benetton.com/\",\n",
    "    \"https://wforwoman.com/\",\n",
    "    \"https://www.zodiaconline.com/\",\n",
    "    \"https://www.zara.com/in/\",\n",
    "    \"https://www.manyavar.com/\",\n",
    "    \"https://www.bottegaveneta.com/en-en\",\n",
    "    \"https://www.newbalance.com/\",\n",
    "    \"https://in.lining.studio/category/clothing\",\n",
    "    \"https://www.loewe.com/int/en/home?country=IN&gad_source=1&gclid=EAIaIQobChMI6dfnvNqbhAMVOSmDAx3DKAAAEAAYASAAEgINmvD_BwE\",\n",
    "    \"https://www.provogue.com/\"\n",
    "]\n",
    "\n",
    "def scrape_products(category_url):\n",
    "    response = requests.get(category_url)\n",
    "    soup = BeautifulSoup(response.text, 'html.parser')\n",
    "    \n",
    "    products = soup.find_all('div', class_='product-tile')\n",
    "    \n",
    "    for product in products:\n",
    "        name = product.find('span', class_='name').text.strip()\n",
    "        price = product.find('span', class_='sales-price').text.strip()\n",
    "        image_url = product.find('img')['src']\n",
    "        \n",
    "        print(\"Name:\", name)\n",
    "        print(\"Price:\", price)\n",
    "        print(\"Image URL:\", image_url)\n",
    "        print()\n",
    "\n",
    "for url in urls:\n",
    "    print(\"Scraping data from:\", url)\n",
    "    \n",
    "    response = requests.get(url)\n",
    "    soup = BeautifulSoup(response.text, 'html.parser')\n",
    "    mens_links = soup.find_all('a', href=True, text='Men')\n",
    "    womens_links = soup.find_all('a', href=True, text='Women')\n",
    "    kids_links = soup.find_all('a', href=True, text='Kids')\n",
    "    \n",
    "    mens_urls = [link['href'] for link in mens_links]\n",
    "    womens_urls = [link['href'] for link in womens_links]\n",
    "    kids_urls = [link['href'] for link in kids_links]\n",
    "    \n",
    "    print(\"Men's Clothing:\")\n",
    "    for mens_url in mens_urls:\n",
    "        print(\"Category URL:\", mens_url)\n",
    "        scrape_products(mens_url)\n",
    "    \n",
    "    print(\"Women's Clothing:\")\n",
    "    for womens_url in womens_urls:\n",
    "        print(\"Category URL:\", womens_url)\n",
    "        scrape_products(womens_url)\n",
    "    \n",
    "    print(\"Kids' Clothing:\")\n",
    "    for kids_url in kids_urls:\n",
    "        print(\"Category URL:\", kids_url)\n",
    "        scrape_products(kids_url)\n",
    "        \n",
    "# Above code describes about how to scrape the urls \n",
    "\n"
   ]
  },
  {
   "cell_type": "code",
   "execution_count": null,
   "id": "ced6d537",
   "metadata": {},
   "outputs": [],
   "source": []
  }
 ],
 "metadata": {
  "kernelspec": {
   "display_name": "Python 3 (ipykernel)",
   "language": "python",
   "name": "python3"
  },
  "language_info": {
   "codemirror_mode": {
    "name": "ipython",
    "version": 3
   },
   "file_extension": ".py",
   "mimetype": "text/x-python",
   "name": "python",
   "nbconvert_exporter": "python",
   "pygments_lexer": "ipython3",
   "version": "3.9.12"
  }
 },
 "nbformat": 4,
 "nbformat_minor": 5
}
